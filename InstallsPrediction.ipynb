{
 "cells": [
  {
   "cell_type": "code",
   "execution_count": 1,
   "metadata": {},
   "outputs": [],
   "source": [
    "# importing libraries\n",
    "import numpy as np\n",
    "import pandas as pd\n",
    "import matplotlib.pyplot as plt\n",
    "import seaborn as sns\n",
    "import re\n",
    "%matplotlib inline\n",
    "import warnings\n",
    "warnings.filterwarnings(\"ignore\")\n",
    "\n",
    "# Machine learning packages\n",
    "import statsmodels.api as sm\n",
    "from statsmodels.stats.outliers_influence import variance_inflation_factor\n",
    "from sklearn.model_selection import train_test_split\n",
    "from sklearn.metrics import mean_squared_error, r2_score\n",
    "from sklearn.preprocessing import scale \n",
    "from sklearn.linear_model import Ridge, RidgeCV, Lasso, LassoCV,LinearRegression\n",
    "\n",
    "from sklearn.preprocessing import StandardScaler\n",
    "from sklearn.preprocessing import MinMaxScaler\n",
    "from sklearn.linear_model import Lasso\n",
    "from sklearn.linear_model import Ridge\n",
    "from sklearn.metrics import mean_squared_error\n",
    "from sklearn.model_selection import train_test_split\n",
    "from sklearn.linear_model import LogisticRegression\n",
    "from sklearn.metrics import accuracy_score\n",
    "from sklearn.metrics import confusion_matrix\n",
    "from sklearn.metrics import classification_report"
   ]
  },
  {
   "cell_type": "code",
   "execution_count": 2,
   "metadata": {},
   "outputs": [
    {
     "name": "stdout",
     "output_type": "stream",
     "text": [
      "This dataframe has 399284 rows and 33 columns.\n"
     ]
    }
   ],
   "source": [
    "# reading data from csv and creating a dataframe\n",
    "df = pd.read_csv('data.csv')\n",
    "\n",
    "# dataframe dimensions\n",
    "print(f\"This dataframe has {df.shape[0]} rows and {df.shape[1]} columns.\")"
   ]
  },
  {
   "cell_type": "code",
   "execution_count": 3,
   "metadata": {},
   "outputs": [
    {
     "name": "stdout",
     "output_type": "stream",
     "text": [
      "<class 'pandas.core.frame.DataFrame'>\n",
      "RangeIndex: 399284 entries, 0 to 399283\n",
      "Data columns (total 33 columns):\n",
      " #   Column                Non-Null Count   Dtype  \n",
      "---  ------                --------------   -----  \n",
      " 0   Unnamed: 0            399284 non-null  int64  \n",
      " 1   App Name              399283 non-null  object \n",
      " 2   App Id                399284 non-null  object \n",
      " 3   Category              399284 non-null  object \n",
      " 4   Rating                399284 non-null  float64\n",
      " 5   Rating Count          399284 non-null  float64\n",
      " 6   Installs              399284 non-null  float64\n",
      " 7   Minimum Installs      399284 non-null  float64\n",
      " 8   Maximum Installs      399284 non-null  int64  \n",
      " 9   Free                  399284 non-null  bool   \n",
      " 10  Price                 399284 non-null  float64\n",
      " 11  Currency              399284 non-null  object \n",
      " 12  Size                  399284 non-null  float64\n",
      " 13  Minimum Android       398998 non-null  object \n",
      " 14  Released              399284 non-null  object \n",
      " 15  Last Updated          399284 non-null  object \n",
      " 16  Content Rating        399284 non-null  object \n",
      " 17  Ad Supported          399284 non-null  bool   \n",
      " 18  In App Purchases      399284 non-null  bool   \n",
      " 19  Editors Choice        399284 non-null  bool   \n",
      " 20  c_lifestyle           399284 non-null  float64\n",
      " 21  c_education           399284 non-null  float64\n",
      " 22  c_health              399284 non-null  float64\n",
      " 23  c_travel              399284 non-null  float64\n",
      " 24  c_communication       399284 non-null  float64\n",
      " 25  c_news                399284 non-null  float64\n",
      " 26  c_tools               399284 non-null  float64\n",
      " 27  c_weather             399284 non-null  float64\n",
      " 28  c_business            399284 non-null  float64\n",
      " 29  c_entertainment       399284 non-null  float64\n",
      " 30  ReleaseMonth          399284 non-null  float64\n",
      " 31  dayssincelastupdated  399284 non-null  int64  \n",
      " 32  dayssincechange       399284 non-null  int64  \n",
      "dtypes: bool(4), float64(17), int64(4), object(8)\n",
      "memory usage: 89.9+ MB\n"
     ]
    }
   ],
   "source": [
    "df.info()"
   ]
  },
  {
   "cell_type": "code",
   "execution_count": 4,
   "metadata": {},
   "outputs": [],
   "source": [
    "# Removing unnecessary columns for install predictions\n",
    "df = df.drop(['Unnamed: 0','Currency','Released','App Name','App Id','Category','Minimum Installs','Maximum Installs','Minimum Android','Last Updated','Content Rating','Ad Supported','In App Purchases','Editors Choice'], axis = 1)"
   ]
  },
  {
   "cell_type": "code",
   "execution_count": 5,
   "metadata": {},
   "outputs": [],
   "source": [
    "# Creating a test train dataset split using Installs as Target Variable\n",
    "X = df.drop(['Installs'],axis=1)\n",
    "y = df['Installs']\n",
    "X_train, X_test, y_train, y_test = train_test_split(X, y,test_size = 0.25,random_state = 345)"
   ]
  },
  {
   "cell_type": "code",
   "execution_count": 6,
   "metadata": {},
   "outputs": [
    {
     "name": "stdout",
     "output_type": "stream",
     "text": [
      "                                 OLS Regression Results                                \n",
      "=======================================================================================\n",
      "Dep. Variable:               Installs   R-squared (uncentered):                   0.986\n",
      "Model:                            OLS   Adj. R-squared (uncentered):              0.986\n",
      "Method:                 Least Squares   F-statistic:                          1.362e+06\n",
      "Date:                Wed, 09 Dec 2020   Prob (F-statistic):                        0.00\n",
      "Time:                        10:23:38   Log-Likelihood:                     -4.5465e+05\n",
      "No. Observations:              299463   AIC:                                  9.093e+05\n",
      "Df Residuals:                  299447   BIC:                                  9.095e+05\n",
      "Df Model:                          16                                                  \n",
      "Covariance Type:            nonrobust                                                  \n",
      "========================================================================================\n",
      "                           coef    std err          t      P>|t|      [0.025      0.975]\n",
      "----------------------------------------------------------------------------------------\n",
      "Rating                  -0.1357      0.011    -11.836      0.000      -0.158      -0.113\n",
      "Rating Count             0.9378      0.001    954.267      0.000       0.936       0.940\n",
      "Free                     3.5759      0.018    198.880      0.000       3.541       3.611\n",
      "Price                    0.9838      0.012     79.043      0.000       0.959       1.008\n",
      "Size                     0.1081      0.002     63.648      0.000       0.105       0.111\n",
      "c_lifestyle              0.2300      0.006     37.824      0.000       0.218       0.242\n",
      "c_education              0.1208      0.006     18.615      0.000       0.108       0.134\n",
      "c_health                 0.0920      0.019      4.883      0.000       0.055       0.129\n",
      "c_travel              6.705e-16    9.6e-18     69.864      0.000    6.52e-16    6.89e-16\n",
      "c_communication          0.1106      0.016      7.101      0.000       0.080       0.141\n",
      "c_news                2.214e-16    1.4e-17     15.865      0.000    1.94e-16    2.49e-16\n",
      "c_tools                  0.1450      0.007     19.390      0.000       0.130       0.160\n",
      "c_weather               -0.1127      0.029     -3.864      0.000      -0.170      -0.056\n",
      "c_business              -0.1692      0.008    -20.259      0.000      -0.186      -0.153\n",
      "c_entertainment         -0.0480      0.006     -7.868      0.000      -0.060      -0.036\n",
      "ReleaseMonth             0.0108      0.001     18.667      0.000       0.010       0.012\n",
      "dayssincelastupdated     0.0002   3.95e-06     39.109      0.000       0.000       0.000\n",
      "dayssincechange          0.0001   3.03e-06     34.451      0.000    9.85e-05       0.000\n",
      "==============================================================================\n",
      "Omnibus:                    11879.985   Durbin-Watson:                   2.001\n",
      "Prob(Omnibus):                  0.000   Jarque-Bera (JB):            19905.192\n",
      "Skew:                          -0.346   Prob(JB):                         0.00\n",
      "Kurtosis:                       4.057   Cond. No.                     8.00e+19\n",
      "==============================================================================\n",
      "\n",
      "Warnings:\n",
      "[1] Standard Errors assume that the covariance matrix of the errors is correctly specified.\n",
      "[2] The smallest eigenvalue is 6.43e-29. This might indicate that there are\n",
      "strong multicollinearity problems or that the design matrix is singular.\n"
     ]
    }
   ],
   "source": [
    "# Creating a OLS model \n",
    "model = sm.OLS(y_train.astype(float), X_train.astype(float)).fit()\n",
    "predictions = model.predict(X_train) \n",
    "\n",
    "print_model = model.summary()\n",
    "print(print_model)"
   ]
  },
  {
   "cell_type": "code",
   "execution_count": 7,
   "metadata": {},
   "outputs": [
    {
     "data": {
      "text/plain": [
       "0.8196789498864973"
      ]
     },
     "execution_count": 7,
     "metadata": {},
     "output_type": "execute_result"
    }
   ],
   "source": [
    "#Finding the Test dataset accuracy\n",
    "clf = LinearRegression()\n",
    "clf.fit(X_train,y_train)\n",
    "clf.predict(X_test)\n",
    "clf.score(X_test,y_test)"
   ]
  },
  {
   "cell_type": "markdown",
   "metadata": {},
   "source": [
    "## Lasso model to improve model performance"
   ]
  },
  {
   "cell_type": "code",
   "execution_count": 9,
   "metadata": {},
   "outputs": [
    {
     "name": "stdout",
     "output_type": "stream",
     "text": [
      "<class 'pandas.core.frame.DataFrame'>\n",
      "RangeIndex: 399284 entries, 0 to 399283\n",
      "Data columns (total 19 columns):\n",
      " #   Column                Non-Null Count   Dtype  \n",
      "---  ------                --------------   -----  \n",
      " 0   Rating                399284 non-null  float64\n",
      " 1   Rating Count          399284 non-null  float64\n",
      " 2   Installs              399284 non-null  float64\n",
      " 3   Free                  399284 non-null  bool   \n",
      " 4   Price                 399284 non-null  float64\n",
      " 5   Size                  399284 non-null  float64\n",
      " 6   c_lifestyle           399284 non-null  float64\n",
      " 7   c_education           399284 non-null  float64\n",
      " 8   c_health              399284 non-null  float64\n",
      " 9   c_travel              399284 non-null  float64\n",
      " 10  c_communication       399284 non-null  float64\n",
      " 11  c_news                399284 non-null  float64\n",
      " 12  c_tools               399284 non-null  float64\n",
      " 13  c_weather             399284 non-null  float64\n",
      " 14  c_business            399284 non-null  float64\n",
      " 15  c_entertainment       399284 non-null  float64\n",
      " 16  ReleaseMonth          399284 non-null  float64\n",
      " 17  dayssincelastupdated  399284 non-null  int64  \n",
      " 18  dayssincechange       399284 non-null  int64  \n",
      "dtypes: bool(1), float64(16), int64(2)\n",
      "memory usage: 55.2 MB\n"
     ]
    }
   ],
   "source": [
    "df.info()"
   ]
  },
  {
   "cell_type": "code",
   "execution_count": 10,
   "metadata": {},
   "outputs": [
    {
     "data": {
      "text/plain": [
       "Index(['Rating', 'Rating Count', 'Installs', 'Free', 'Price', 'Size',\n",
       "       'c_lifestyle', 'c_education', 'c_health', 'c_travel', 'c_communication',\n",
       "       'c_news', 'c_tools', 'c_weather', 'c_business', 'c_entertainment',\n",
       "       'ReleaseMonth', 'dayssincelastupdated', 'dayssincechange'],\n",
       "      dtype='object')"
      ]
     },
     "execution_count": 10,
     "metadata": {},
     "output_type": "execute_result"
    }
   ],
   "source": [
    "df.columns"
   ]
  },
  {
   "cell_type": "code",
   "execution_count": 11,
   "metadata": {},
   "outputs": [],
   "source": [
    "#Scaling parameters\n",
    "scaler = StandardScaler()\n",
    "df[['Rating','Rating Count','Size','Price','ReleaseMonth','dayssincelastupdated', 'dayssincechange']] = scaler.fit_transform(df[['Rating','Rating Count','Size','Price','ReleaseMonth','dayssincelastupdated', 'dayssincechange']])"
   ]
  },
  {
   "cell_type": "code",
   "execution_count": 12,
   "metadata": {},
   "outputs": [
    {
     "name": "stdout",
     "output_type": "stream",
     "text": [
      "Lasso Regression: R^2 score on training set 74.67814022957523\n",
      "Lasso Regression: R^2 score on test set 74.78775609866162\n"
     ]
    }
   ],
   "source": [
    "# Running LASSO with alpha. = 0.5\n",
    "X = df.drop(['Installs'],axis=1)\n",
    "y = df['Installs']\n",
    "X_train, X_test, y_train, y_test = train_test_split(X, y, test_size=0.25, random_state=10)\n",
    "\n",
    "reg = Lasso(alpha=0.5)\n",
    "reg.fit(X_train, y_train)\n",
    "print('Lasso Regression: R^2 score on training set', reg.score(X_train, y_train)*100)\n",
    "print('Lasso Regression: R^2 score on test set', reg.score(X_test, y_test)*100)"
   ]
  },
  {
   "cell_type": "code",
   "execution_count": 18,
   "metadata": {},
   "outputs": [
    {
     "data": {
      "image/png": "[encoded data removed]",
      "text/plain": [
       "<Figure size 1296x576 with 1 Axes>"
      ]
     },
     "metadata": {
      "needs_background": "light"
     },
     "output_type": "display_data"
    }
   ],
   "source": [
    "lambdas = (0.0001,0.0005,0.001, 0.01, 0.1, 0.5, 1)\n",
    "l_num = 7\n",
    "pred_num = X.shape[1]\n",
    "\n",
    "# prepare data for enumerate\n",
    "coeff_a = np.zeros((l_num, pred_num))\n",
    "train_r_squared = np.zeros(l_num)\n",
    "test_r_squared = np.zeros(l_num)\n",
    "# enumerate through lambdas with index and i\n",
    "for ind, i in enumerate(lambdas):    \n",
    "    reg = Lasso(alpha = i)\n",
    "    reg.fit(X_train, y_train)\n",
    "\n",
    "    coeff_a[ind,:] = reg.coef_\n",
    "    train_r_squared[ind] = reg.score(X_train, y_train)\n",
    "    test_r_squared[ind] = reg.score(X_test, y_test)\n",
    "\n",
    "# Plotting\n",
    "plt.figure(figsize=(18, 8))\n",
    "plt.plot(train_r_squared, 'bo-', label=r'$R^2$ Training set', color=\"darkblue\", alpha=0.6, linewidth=3)\n",
    "plt.plot(test_r_squared, 'bo-', label=r'$R^2$ Test set', color=\"darkred\", alpha=0.6, linewidth=3)\n",
    "plt.xlabel('Lamda index'); plt.ylabel(r'$R^2$')\n",
    "plt.xlim(0, 6)\n",
    "plt.title(r'Evaluate lasso regression with lamdas: 0 = 0.0001, 1= 0.0005, 2 = 0.001, 3 = 0.01, 4= 0.1, 5= 0.5, 6 = 1')\n",
    "plt.legend(loc='best')\n",
    "plt.grid()"
   ]
  },
  {
   "cell_type": "code",
   "execution_count": 14,
   "metadata": {},
   "outputs": [
    {
     "name": "stdout",
     "output_type": "stream",
     "text": [
      "Lasso Regression: R^2 score on training set 82.09914727556368\n",
      "Lasso Regression: R^2 score on test set 82.11808503470132\n"
     ]
    }
   ],
   "source": [
    "# Running LASSO with alpha. = 0.001\n",
    "X = df.drop(['Installs'],axis=1)\n",
    "y = df['Installs']\n",
    "X_train, X_test, y_train, y_test = train_test_split(X, y, test_size=0.25, random_state=10)\n",
    "\n",
    "reg = Lasso(alpha=0.001)\n",
    "reg.fit(X_train, y_train)\n",
    "print('Lasso Regression: R^2 score on training set', reg.score(X_train, y_train)*100)\n",
    "print('Lasso Regression: R^2 score on test set', reg.score(X_test, y_test)*100)"
   ]
  },
  {
   "cell_type": "code",
   "execution_count": 15,
   "metadata": {},
   "outputs": [
    {
     "data": {
      "text/plain": [
       "Rating                 -0.243121\n",
       "Rating Count            2.205130\n",
       "Free                    1.448875\n",
       "Price                  -0.066493\n",
       "Size                   -0.058756\n",
       "c_lifestyle             0.106516\n",
       "c_education             0.087539\n",
       "c_health                0.000000\n",
       "c_travel                0.000000\n",
       "c_communication        -0.000000\n",
       "c_news                  0.000000\n",
       "c_tools                -0.087232\n",
       "c_weather              -0.000000\n",
       "c_business             -0.273720\n",
       "c_entertainment        -0.052700\n",
       "ReleaseMonth            0.005706\n",
       "dayssincelastupdated   -0.042820\n",
       "dayssincechange         0.011155\n",
       "dtype: float64"
      ]
     },
     "execution_count": 15,
     "metadata": {},
     "output_type": "execute_result"
    }
   ],
   "source": [
    "pd.Series(reg.coef_,index=X.columns)"
   ]
  },
  {
   "cell_type": "code",
   "execution_count": 19,
   "metadata": {},
   "outputs": [
    {
     "data": {
      "text/plain": [
       "0.8211769811801893"
      ]
     },
     "execution_count": 19,
     "metadata": {},
     "output_type": "execute_result"
    }
   ],
   "source": [
    "X = df.drop(['Installs','c_health','c_travel','c_communication','c_news','c_weather'],axis=1)\n",
    "y = df['Installs']\n",
    "X_train, X_test, y_train, y_test = train_test_split(X, y, test_size=0.25, random_state=10)\n",
    "\n",
    "\n",
    "#Finding the Test dataset accuracy\n",
    "clf = LinearRegression()\n",
    "clf.fit(X_train,y_train)\n",
    "clf.predict(X_test)\n",
    "clf.score(X_test,y_test)"
   ]
  },
  {
   "cell_type": "markdown",
   "metadata": {},
   "source": [
    "## Polynomial Model"
   ]
  },
  {
   "cell_type": "code",
   "execution_count": 20,
   "metadata": {},
   "outputs": [
    {
     "name": "stdout",
     "output_type": "stream",
     "text": [
      "Degree:  1\n",
      "MAE:  0.8202871415679749\n",
      "RMSE:  1.0574024825046346\n",
      "R2:  0.8211999416248627\n",
      "Degree:  2\n",
      "MAE:  0.7901761866265418\n",
      "RMSE:  1.012801679341716\n",
      "R2:  0.8211999416248627\n",
      "Degree:  3\n",
      "MAE:  0.7708254692505339\n",
      "RMSE:  0.9871787042230511\n",
      "R2:  0.8211999416248627\n"
     ]
    }
   ],
   "source": [
    "from sklearn.linear_model import LinearRegression\n",
    "from sklearn.preprocessing import PolynomialFeatures\n",
    "from sklearn.metrics import r2_score, mean_absolute_error, mean_squared_error\n",
    "\n",
    "\n",
    "X = df.drop(['Installs'],axis=1)\n",
    "y = df['Installs']\n",
    "X_train, X_test, y_train, y_test = train_test_split(X, y, test_size=0.25, random_state=10)\n",
    "reg = LinearRegression()\n",
    "reg.fit(X_train, y_train)\n",
    "pred = reg.predict(X_test)\n",
    "\n",
    "d = range(1,4)\n",
    "for degree in d:\n",
    "    poly = PolynomialFeatures(degree=degree)\n",
    "    Xpoly = poly.fit_transform(X)\n",
    "    Xpoly_test = poly.fit_transform(X_test)\n",
    "\n",
    "    polyreg = LinearRegression()\n",
    "    polyreg.fit(Xpoly, y)\n",
    "    predpoly = polyreg.predict(Xpoly_test)\n",
    "\n",
    "    mae2 = mean_absolute_error(y_test, predpoly)\n",
    "    mse2 = mean_squared_error(y_test, predpoly)\n",
    "    r2poly = r2_score(y_test,pred)\n",
    "    \n",
    "    print('Degree: ', degree)\n",
    "    print('MAE: ', mae2)\n",
    "    print('RMSE: ', np.sqrt(mse2))\n",
    "    print('R2: ', r2poly)\n",
    "\n"
   ]
  },
  {
   "cell_type": "code",
   "execution_count": null,
   "metadata": {},
   "outputs": [],
   "source": []
  }
 ],
 "metadata": {
  "kernelspec": {
   "display_name": "Python 3",
   "language": "python",
   "name": "python3"
  },
  "language_info": {
   "codemirror_mode": {
    "name": "ipython",
    "version": 3
   },
   "file_extension": ".py",
   "mimetype": "text/x-python",
   "name": "python",
   "nbconvert_exporter": "python",
   "pygments_lexer": "ipython3",
   "version": "3.8.3"
  }
 },
 "nbformat": 4,
 "nbformat_minor": 4
}
