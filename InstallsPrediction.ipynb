{
 "cells": [
  {
   "cell_type": "code",
   "execution_count": 1,
   "metadata": {},
   "outputs": [],
   "source": [
    "# importing libraries\n",
    "import numpy as np\n",
    "import pandas as pd\n",
    "import matplotlib.pyplot as plt\n",
    "import seaborn as sns\n",
    "import re\n",
    "%matplotlib inline\n",
    "import warnings\n",
    "warnings.filterwarnings(\"ignore\")\n",
    "\n",
    "# Machine learning packages\n",
    "import statsmodels.api as sm\n",
    "from statsmodels.stats.outliers_influence import variance_inflation_factor\n",
    "from sklearn import linear_model\n",
    "from sklearn.model_selection import train_test_split\n",
    "from sklearn.metrics import mean_squared_error, r2_score"
   ]
  },
  {
   "cell_type": "markdown",
   "metadata": {},
   "source": [
    "## OLD CODE"
   ]
  },
  {
   "cell_type": "code",
   "execution_count": null,
   "metadata": {},
   "outputs": [],
   "source": [
    "# reading data from csv and creating a dataframe\n",
    "df = pd.read_csv('Google-Playstore.csv')\n",
    "\n",
    "# dataframe dimensions\n",
    "print(f\"This dataframe has {df.shape[0]} rows and {df.shape[1]} columns.\")"
   ]
  },
  {
   "cell_type": "code",
   "execution_count": null,
   "metadata": {},
   "outputs": [],
   "source": [
    "df.info()"
   ]
  },
  {
   "cell_type": "code",
   "execution_count": null,
   "metadata": {},
   "outputs": [],
   "source": [
    "#Drop unnecessary variables: Deveopler Website, Developer Id, Developer Email, Privacy Policy\n",
    "df = df.drop(['App Name','App Id','Minimum Installs','Maximum Installs','Minimum Android','Last Updated','Developer Id', 'Developer Website', 'Developer Email', 'Privacy Policy','Content Rating','Privacy Policy','Ad Supported','In App Purchases','Editors Choice'], axis = 1)"
   ]
  },
  {
   "cell_type": "code",
   "execution_count": null,
   "metadata": {},
   "outputs": [],
   "source": [
    "df.info()"
   ]
  },
  {
   "cell_type": "code",
   "execution_count": null,
   "metadata": {},
   "outputs": [],
   "source": [
    "df['Installs'] = df['Installs'].str.replace('+','')\n",
    "df['Installs'] = df['Installs'].str.replace(',','')\n",
    "df.Installs = pd.to_numeric(df.Installs,errors='coerce')\n",
    "df.Installs=df.Installs.apply(func=np.log1p)"
   ]
  },
  {
   "cell_type": "code",
   "execution_count": null,
   "metadata": {},
   "outputs": [],
   "source": [
    "# remove apps other than US\n",
    "df = df[df['Currency'] == 'USD']\n",
    "df = df.drop(['Currency'],axis=1)"
   ]
  },
  {
   "cell_type": "code",
   "execution_count": null,
   "metadata": {},
   "outputs": [],
   "source": [
    "#Remove Varies with Device from Size\n",
    "df = df[df['Size'] != 'Varies with device']\n",
    "kb_index = df.Size[df.Size.str.contains('k')].index\n",
    "mb_index = df.Size[(df.Size.str.contains('M'))].index\n",
    "#Remove M,k,, from the size variable\n",
    "#df['Size'] = df['Size'].str.replace('.','')\n",
    "df['Size'] = df['Size'].str.replace(',','')\n",
    "df.Size = df.Size.str.replace('M','')\n",
    "df.Size = df.Size.str.replace('k','')\n",
    "df.Size = pd.to_numeric(df.Size,errors='coerce')\n",
    "df.Size.loc[mb_index] = df.Size.loc[mb_index] * 1000"
   ]
  },
  {
   "cell_type": "code",
   "execution_count": null,
   "metadata": {},
   "outputs": [],
   "source": [
    "df.Released=pd.to_datetime(df.Released)\n",
    "df['ReleaseMonth']= df['Released'].dt.month\n",
    "df = df.dropna(subset=['ReleaseMonth'])"
   ]
  },
  {
   "cell_type": "code",
   "execution_count": null,
   "metadata": {},
   "outputs": [],
   "source": [
    "df = df[(df.Rating>=1) & (df.Rating<=5)]"
   ]
  },
  {
   "cell_type": "code",
   "execution_count": null,
   "metadata": {},
   "outputs": [],
   "source": [
    "df.info()"
   ]
  },
  {
   "cell_type": "code",
   "execution_count": null,
   "metadata": {},
   "outputs": [],
   "source": [
    "df.corr(method='pearson')"
   ]
  },
  {
   "cell_type": "code",
   "execution_count": null,
   "metadata": {},
   "outputs": [],
   "source": [
    "df=pd.get_dummies(df,columns=['Category','Free'],dtype=np.int64)\n"
   ]
  },
  {
   "cell_type": "code",
   "execution_count": null,
   "metadata": {},
   "outputs": [],
   "source": [
    "print(df.hist(['Rating','Rating Count','Size','Installs','Price'],figsize=(12,8),xlabelsize=12,ylabelsize=12))"
   ]
  },
  {
   "cell_type": "code",
   "execution_count": null,
   "metadata": {},
   "outputs": [],
   "source": [
    "df.Price=df.Price.apply(func=np.log1p)\n",
    "df.Rating=df.Rating.apply(func=np.log1p)\n",
    "df['Rating Count']=df['Rating Count'].apply(func=np.log1p)\n",
    "df.Size=df.Size.apply(func=np.log1p)"
   ]
  },
  {
   "cell_type": "code",
   "execution_count": null,
   "metadata": {},
   "outputs": [],
   "source": [
    "df.info()"
   ]
  },
  {
   "cell_type": "code",
   "execution_count": null,
   "metadata": {},
   "outputs": [],
   "source": [
    "print(df.columns)"
   ]
  },
  {
   "cell_type": "code",
   "execution_count": null,
   "metadata": {},
   "outputs": [],
   "source": [
    "X = df.drop(['Installs','Released'],axis=1)"
   ]
  },
  {
   "cell_type": "code",
   "execution_count": null,
   "metadata": {},
   "outputs": [],
   "source": [
    "y = df['Installs']"
   ]
  },
  {
   "cell_type": "code",
   "execution_count": null,
   "metadata": {},
   "outputs": [],
   "source": [
    "model = sm.OLS(y.astype(float), X.astype(float)).fit()\n",
    "predictions = model.predict(X) \n",
    "\n",
    "print_model = model.summary()\n",
    "print(print_model)"
   ]
  },
  {
   "cell_type": "code",
   "execution_count": null,
   "metadata": {},
   "outputs": [],
   "source": [
    "#After first iteration\n",
    "tobedropped = ['Installs','Released','Category_Sports','Category_Social','Category_Shopping','Category_Productivity','Category_Lifestyle','Category_Communication']"
   ]
  },
  {
   "cell_type": "code",
   "execution_count": null,
   "metadata": {},
   "outputs": [],
   "source": [
    "X = df.drop(tobedropped,axis=1)\n",
    "y= y = df['Installs']\n",
    "model = sm.OLS(y.astype(float), X.astype(float)).fit()\n",
    "predictions = model.predict(X) \n",
    "\n",
    "print_model = model.summary()\n",
    "print(print_model)"
   ]
  },
  {
   "cell_type": "code",
   "execution_count": null,
   "metadata": {},
   "outputs": [],
   "source": [
    "## Importing from EDA"
   ]
  },
  {
   "cell_type": "code",
   "execution_count": null,
   "metadata": {},
   "outputs": [],
   "source": [
    "df = pd.read_csv('data.csv')"
   ]
  },
  {
   "cell_type": "code",
   "execution_count": null,
   "metadata": {},
   "outputs": [],
   "source": [
    "df.info()"
   ]
  },
  {
   "cell_type": "markdown",
   "metadata": {},
   "source": [
    "## NEW CODE"
   ]
  },
  {
   "cell_type": "code",
   "execution_count": 2,
   "metadata": {},
   "outputs": [
    {
     "name": "stdout",
     "output_type": "stream",
     "text": [
      "This dataframe has 399284 rows and 31 columns.\n"
     ]
    }
   ],
   "source": [
    "# reading data from csv and creating a dataframe\n",
    "df = pd.read_csv('data.csv')\n",
    "\n",
    "# dataframe dimensions\n",
    "print(f\"This dataframe has {df.shape[0]} rows and {df.shape[1]} columns.\")"
   ]
  },
  {
   "cell_type": "code",
   "execution_count": 3,
   "metadata": {},
   "outputs": [
    {
     "name": "stdout",
     "output_type": "stream",
     "text": [
      "<class 'pandas.core.frame.DataFrame'>\n",
      "RangeIndex: 399284 entries, 0 to 399283\n",
      "Data columns (total 31 columns):\n",
      " #   Column            Non-Null Count   Dtype  \n",
      "---  ------            --------------   -----  \n",
      " 0   Unnamed: 0        399284 non-null  int64  \n",
      " 1   App Name          399283 non-null  object \n",
      " 2   App Id            399284 non-null  object \n",
      " 3   Category          399284 non-null  object \n",
      " 4   Rating            399284 non-null  float64\n",
      " 5   Rating Count      399284 non-null  float64\n",
      " 6   Installs          399284 non-null  float64\n",
      " 7   Minimum Installs  399284 non-null  float64\n",
      " 8   Maximum Installs  399284 non-null  int64  \n",
      " 9   Free              399284 non-null  bool   \n",
      " 10  Price             399284 non-null  float64\n",
      " 11  Currency          399284 non-null  object \n",
      " 12  Size              399284 non-null  float64\n",
      " 13  Minimum Android   398998 non-null  object \n",
      " 14  Released          399284 non-null  object \n",
      " 15  Last Updated      399284 non-null  object \n",
      " 16  Content Rating    399284 non-null  object \n",
      " 17  Ad Supported      399284 non-null  bool   \n",
      " 18  In App Purchases  399284 non-null  bool   \n",
      " 19  Editors Choice    399284 non-null  bool   \n",
      " 20  c_lifestyle       399284 non-null  float64\n",
      " 21  c_education       399284 non-null  float64\n",
      " 22  c_health          399284 non-null  float64\n",
      " 23  c_travel          399284 non-null  float64\n",
      " 24  c_communication   399284 non-null  float64\n",
      " 25  c_news            399284 non-null  float64\n",
      " 26  c_tools           399284 non-null  float64\n",
      " 27  c_weather         399284 non-null  float64\n",
      " 28  c_business        399284 non-null  float64\n",
      " 29  c_entertainment   399284 non-null  float64\n",
      " 30  ReleaseMonth      399284 non-null  float64\n",
      "dtypes: bool(4), float64(17), int64(2), object(8)\n",
      "memory usage: 83.8+ MB\n"
     ]
    }
   ],
   "source": [
    "df.info()"
   ]
  },
  {
   "cell_type": "code",
   "execution_count": 4,
   "metadata": {},
   "outputs": [],
   "source": [
    "df = df.drop(['Unnamed: 0','Currency','Released','App Name','App Id','Category','Minimum Installs','Maximum Installs','Minimum Android','Last Updated','Content Rating','Ad Supported','In App Purchases','Editors Choice'], axis = 1)"
   ]
  },
  {
   "cell_type": "code",
   "execution_count": 5,
   "metadata": {},
   "outputs": [],
   "source": [
    "X = df.drop(['Installs'],axis=1)\n",
    "y = df['Installs']"
   ]
  },
  {
   "cell_type": "code",
   "execution_count": null,
   "metadata": {},
   "outputs": [],
   "source": [
    "X_train, X_test, y_train, y_test = train_test_split(X, y,test_size = 0.25,random_state = 345)\n"
   ]
  },
  {
   "cell_type": "code",
   "execution_count": 6,
   "metadata": {},
   "outputs": [
    {
     "name": "stdout",
     "output_type": "stream",
     "text": [
      "                                 OLS Regression Results                                \n",
      "=======================================================================================\n",
      "Dep. Variable:               Installs   R-squared (uncentered):                   0.986\n",
      "Model:                            OLS   Adj. R-squared (uncentered):              0.986\n",
      "Method:                 Least Squares   F-statistic:                          2.053e+06\n",
      "Date:                Sun, 29 Nov 2020   Prob (F-statistic):                        0.00\n",
      "Time:                        23:49:56   Log-Likelihood:                     -6.0820e+05\n",
      "No. Observations:              399284   AIC:                                  1.216e+06\n",
      "Df Residuals:                  399270   BIC:                                  1.217e+06\n",
      "Df Model:                          14                                                  \n",
      "Covariance Type:            nonrobust                                                  \n",
      "===================================================================================\n",
      "                      coef    std err          t      P>|t|      [0.025      0.975]\n",
      "-----------------------------------------------------------------------------------\n",
      "Rating             -0.0415      0.010     -4.280      0.000      -0.060      -0.022\n",
      "Rating Count        0.9485      0.001   1204.670      0.000       0.947       0.950\n",
      "Free                3.6795      0.015    237.442      0.000       3.649       3.710\n",
      "Price               1.0870      0.011    102.404      0.000       1.066       1.108\n",
      "Size                0.0920      0.001     64.506      0.000       0.089       0.095\n",
      "c_lifestyle         0.2287      0.005     43.159      0.000       0.218       0.239\n",
      "c_education         0.1358      0.006     23.442      0.000       0.124       0.147\n",
      "c_health            0.1290      0.016      7.911      0.000       0.097       0.161\n",
      "c_travel          3.17e-16   7.43e-18     42.649      0.000    3.02e-16    3.32e-16\n",
      "c_communication     0.1007      0.014      7.416      0.000       0.074       0.127\n",
      "c_news          -1.101e-16   4.21e-18    -26.172      0.000   -1.18e-16   -1.02e-16\n",
      "c_tools             0.1354      0.006     21.176      0.000       0.123       0.148\n",
      "c_weather          -0.0632      0.025     -2.529      0.011      -0.112      -0.014\n",
      "c_business         -0.1436      0.008    -18.933      0.000      -0.158      -0.129\n",
      "c_entertainment    -0.0398      0.005     -7.556      0.000      -0.050      -0.030\n",
      "ReleaseMonth        0.0119      0.001     23.719      0.000       0.011       0.013\n",
      "==============================================================================\n",
      "Omnibus:                    18041.807   Durbin-Watson:                   1.468\n",
      "Prob(Omnibus):                  0.000   Jarque-Bera (JB):            29995.551\n",
      "Skew:                          -0.386   Prob(JB):                         0.00\n",
      "Kurtosis:                       4.098   Cond. No.                     2.70e+18\n",
      "==============================================================================\n",
      "\n",
      "Warnings:\n",
      "[1] Standard Errors assume that the covariance matrix of the errors is correctly specified.\n",
      "[2] The smallest eigenvalue is 8.78e-30. This might indicate that there are\n",
      "strong multicollinearity problems or that the design matrix is singular.\n"
     ]
    }
   ],
   "source": [
    "model = sm.OLS(y.astype(float), X.astype(float)).fit()\n",
    "predictions = model.predict(X) \n",
    "\n",
    "print_model = model.summary()\n",
    "print(print_model)"
   ]
  },
  {
   "cell_type": "code",
   "execution_count": null,
   "metadata": {},
   "outputs": [],
   "source": []
  }
 ],
 "metadata": {
  "kernelspec": {
   "display_name": "Python 3",
   "language": "python",
   "name": "python3"
  },
  "language_info": {
   "codemirror_mode": {
    "name": "ipython",
    "version": 3
   },
   "file_extension": ".py",
   "mimetype": "text/x-python",
   "name": "python",
   "nbconvert_exporter": "python",
   "pygments_lexer": "ipython3",
   "version": "3.8.3"
  }
 },
 "nbformat": 4,
 "nbformat_minor": 4
}
