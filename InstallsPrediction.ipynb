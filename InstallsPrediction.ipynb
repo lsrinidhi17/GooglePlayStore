{
 "cells": [
  {
   "cell_type": "code",
   "execution_count": 29,
   "metadata": {},
   "outputs": [],
   "source": [
    "# importing libraries\n",
    "import numpy as np\n",
    "import pandas as pd\n",
    "import matplotlib.pyplot as plt\n",
    "import seaborn as sns\n",
    "import re\n",
    "%matplotlib inline\n",
    "import warnings\n",
    "warnings.filterwarnings(\"ignore\")\n",
    "\n",
    "# Machine learning packages\n",
    "import statsmodels.api as sm\n",
    "from statsmodels.stats.outliers_influence import variance_inflation_factor\n",
    "from sklearn.model_selection import train_test_split\n",
    "from sklearn.metrics import mean_squared_error, r2_score\n",
    "from sklearn.preprocessing import scale \n",
    "from sklearn.linear_model import Ridge, RidgeCV, Lasso, LassoCV,LinearRegression\n",
    "\n",
    "from sklearn.preprocessing import StandardScaler\n",
    "from sklearn.preprocessing import MinMaxScaler\n",
    "from sklearn.linear_model import Lasso\n",
    "from sklearn.linear_model import Ridge\n",
    "from sklearn.metrics import mean_squared_error\n",
    "from sklearn.model_selection import train_test_split\n",
    "from sklearn.linear_model import LogisticRegression\n",
    "from sklearn.metrics import accuracy_score\n",
    "from sklearn.metrics import confusion_matrix\n",
    "from sklearn.metrics import classification_report"
   ]
  },
  {
   "cell_type": "markdown",
   "metadata": {},
   "source": [
    "## NEW CODE"
   ]
  },
  {
   "cell_type": "code",
   "execution_count": 30,
   "metadata": {},
   "outputs": [
    {
     "name": "stdout",
     "output_type": "stream",
     "text": [
      "This dataframe has 399284 rows and 33 columns.\n"
     ]
    }
   ],
   "source": [
    "# reading data from csv and creating a dataframe\n",
    "df = pd.read_csv('data.csv')\n",
    "\n",
    "# dataframe dimensions\n",
    "print(f\"This dataframe has {df.shape[0]} rows and {df.shape[1]} columns.\")"
   ]
  },
  {
   "cell_type": "code",
   "execution_count": 31,
   "metadata": {},
   "outputs": [
    {
     "name": "stdout",
     "output_type": "stream",
     "text": [
      "<class 'pandas.core.frame.DataFrame'>\n",
      "RangeIndex: 399284 entries, 0 to 399283\n",
      "Data columns (total 33 columns):\n",
      " #   Column                Non-Null Count   Dtype  \n",
      "---  ------                --------------   -----  \n",
      " 0   Unnamed: 0            399284 non-null  int64  \n",
      " 1   App Name              399283 non-null  object \n",
      " 2   App Id                399284 non-null  object \n",
      " 3   Category              399284 non-null  object \n",
      " 4   Rating                399284 non-null  float64\n",
      " 5   Rating Count          399284 non-null  float64\n",
      " 6   Installs              399284 non-null  float64\n",
      " 7   Minimum Installs      399284 non-null  float64\n",
      " 8   Maximum Installs      399284 non-null  int64  \n",
      " 9   Free                  399284 non-null  bool   \n",
      " 10  Price                 399284 non-null  float64\n",
      " 11  Currency              399284 non-null  object \n",
      " 12  Size                  399284 non-null  float64\n",
      " 13  Minimum Android       398998 non-null  object \n",
      " 14  Released              399284 non-null  object \n",
      " 15  Last Updated          399284 non-null  object \n",
      " 16  Content Rating        399284 non-null  object \n",
      " 17  Ad Supported          399284 non-null  bool   \n",
      " 18  In App Purchases      399284 non-null  bool   \n",
      " 19  Editors Choice        399284 non-null  bool   \n",
      " 20  c_lifestyle           399284 non-null  float64\n",
      " 21  c_education           399284 non-null  float64\n",
      " 22  c_health              399284 non-null  float64\n",
      " 23  c_travel              399284 non-null  float64\n",
      " 24  c_communication       399284 non-null  float64\n",
      " 25  c_news                399284 non-null  float64\n",
      " 26  c_tools               399284 non-null  float64\n",
      " 27  c_weather             399284 non-null  float64\n",
      " 28  c_business            399284 non-null  float64\n",
      " 29  c_entertainment       399284 non-null  float64\n",
      " 30  ReleaseMonth          399284 non-null  float64\n",
      " 31  dayssincelastupdated  399284 non-null  int64  \n",
      " 32  dayssincechange       399284 non-null  int64  \n",
      "dtypes: bool(4), float64(17), int64(4), object(8)\n",
      "memory usage: 89.9+ MB\n"
     ]
    }
   ],
   "source": [
    "df.info()"
   ]
  },
  {
   "cell_type": "code",
   "execution_count": 32,
   "metadata": {},
   "outputs": [],
   "source": [
    "df = df.drop(['Unnamed: 0','Currency','Released','App Name','App Id','Category','Minimum Installs','Maximum Installs','Minimum Android','Last Updated','Content Rating','Ad Supported','In App Purchases','Editors Choice'], axis = 1)"
   ]
  },
  {
   "cell_type": "code",
   "execution_count": 33,
   "metadata": {},
   "outputs": [],
   "source": [
    "X = df.drop(['Installs'],axis=1)\n",
    "y = df['Installs']"
   ]
  },
  {
   "cell_type": "code",
   "execution_count": 34,
   "metadata": {},
   "outputs": [],
   "source": [
    "X_train, X_test, y_train, y_test = train_test_split(X, y,test_size = 0.25,random_state = 345)\n"
   ]
  },
  {
   "cell_type": "code",
   "execution_count": 35,
   "metadata": {},
   "outputs": [
    {
     "name": "stdout",
     "output_type": "stream",
     "text": [
      "                                 OLS Regression Results                                \n",
      "=======================================================================================\n",
      "Dep. Variable:               Installs   R-squared (uncentered):                   0.986\n",
      "Model:                            OLS   Adj. R-squared (uncentered):              0.986\n",
      "Method:                 Least Squares   F-statistic:                          1.810e+06\n",
      "Date:                Wed, 09 Dec 2020   Prob (F-statistic):                        0.00\n",
      "Time:                        09:49:28   Log-Likelihood:                     -6.0674e+05\n",
      "No. Observations:              399284   AIC:                                  1.214e+06\n",
      "Df Residuals:                  399268   BIC:                                  1.214e+06\n",
      "Df Model:                          16                                                  \n",
      "Covariance Type:            nonrobust                                                  \n",
      "========================================================================================\n",
      "                           coef    std err          t      P>|t|      [0.025      0.975]\n",
      "----------------------------------------------------------------------------------------\n",
      "Rating                  -0.1365      0.010    -13.755      0.000      -0.156      -0.117\n",
      "Rating Count             0.9376      0.001   1100.555      0.000       0.936       0.939\n",
      "Free                     3.5685      0.016    228.994      0.000       3.538       3.599\n",
      "Price                    0.9771      0.011     90.710      0.000       0.956       0.998\n",
      "Size                     0.1090      0.001     73.983      0.000       0.106       0.112\n",
      "c_lifestyle              0.2305      0.005     43.725      0.000       0.220       0.241\n",
      "c_education              0.1235      0.006     21.944      0.000       0.112       0.135\n",
      "c_health                 0.0983      0.016      6.049      0.000       0.066       0.130\n",
      "c_travel              5.924e-16   4.86e-18    121.783      0.000    5.83e-16    6.02e-16\n",
      "c_communication          0.1012      0.014      7.489      0.000       0.075       0.128\n",
      "c_news                5.452e-17   4.14e-18     13.170      0.000    4.64e-17    6.26e-17\n",
      "c_tools                  0.1485      0.006     22.875      0.000       0.136       0.161\n",
      "c_weather               -0.1063      0.025     -4.265      0.000      -0.155      -0.057\n",
      "c_business              -0.1727      0.007    -23.855      0.000      -0.187      -0.158\n",
      "c_entertainment         -0.0396      0.005     -7.477      0.000      -0.050      -0.029\n",
      "ReleaseMonth             0.0108      0.001     21.587      0.000       0.010       0.012\n",
      "dayssincelastupdated     0.0002   3.42e-06     44.883      0.000       0.000       0.000\n",
      "dayssincechange          0.0001   2.63e-06     39.398      0.000    9.83e-05       0.000\n",
      "==============================================================================\n",
      "Omnibus:                    15295.836   Durbin-Watson:                   1.467\n",
      "Prob(Omnibus):                  0.000   Jarque-Bera (JB):            25057.555\n",
      "Skew:                          -0.343   Prob(JB):                         0.00\n",
      "Kurtosis:                       4.018   Cond. No.                     5.33e+21\n",
      "==============================================================================\n",
      "\n",
      "Warnings:\n",
      "[1] Standard Errors assume that the covariance matrix of the errors is correctly specified.\n",
      "[2] The smallest eigenvalue is 1.93e-32. This might indicate that there are\n",
      "strong multicollinearity problems or that the design matrix is singular.\n"
     ]
    }
   ],
   "source": [
    "model = sm.OLS(y.astype(float), X.astype(float)).fit()\n",
    "predictions = model.predict(X) \n",
    "\n",
    "print_model = model.summary()\n",
    "print(print_model)"
   ]
  },
  {
   "cell_type": "code",
   "execution_count": 36,
   "metadata": {},
   "outputs": [
    {
     "data": {
      "text/plain": [
       "0.8196789498864973"
      ]
     },
     "execution_count": 36,
     "metadata": {},
     "output_type": "execute_result"
    }
   ],
   "source": [
    "clf = LinearRegression()\n",
    "clf.fit(X_train,y_train)\n",
    "clf.predict(X_test)\n",
    "clf.score(X_test,y_test)"
   ]
  },
  {
   "cell_type": "code",
   "execution_count": 47,
   "metadata": {},
   "outputs": [
    {
     "name": "stdout",
     "output_type": "stream",
     "text": [
      "lasso coefficient 4.043814834122768e-06\n",
      "Mean Square Error 1.120233910988469\n",
      "RSqaure 0.8196789595226713\n"
     ]
    }
   ],
   "source": [
    "from numpy import arange\n",
    "from sklearn.linear_model import LassoCV\n",
    "\n",
    "lassocv = LassoCV(alphas = None, cv = 10, max_iter = 100000, normalize = True)\n",
    "lassocv.fit(scale(X_train), y_train)\n",
    "print(\"lasso coefficient\",lassocv.alpha_)\n",
    "lasso.set_params(alpha=lassocv.alpha_)\n",
    "lasso.fit(X_train, y_train)\n",
    "print(\"Mean Square Error\",mean_squared_error(y_test, lasso.predict(X_test)))\n",
    "print(\"RSqaure\",r2_score(y_test, lasso.predict(X_test)))\n"
   ]
  },
  {
   "cell_type": "code",
   "execution_count": 45,
   "metadata": {},
   "outputs": [
    {
     "data": {
      "text/plain": [
       "Rating                 -1.864903\n",
       "Rating Count            0.948217\n",
       "Free                    1.542148\n",
       "Price                  -0.154600\n",
       "Size                   -0.050247\n",
       "c_lifestyle             0.105821\n",
       "c_education             0.079508\n",
       "c_health                0.052658\n",
       "c_travel                0.000000\n",
       "c_communication        -0.042355\n",
       "c_news                  0.000000\n",
       "c_tools                -0.102454\n",
       "c_weather              -0.196616\n",
       "c_business             -0.286747\n",
       "c_entertainment        -0.075604\n",
       "ReleaseMonth            0.001882\n",
       "dayssincelastupdated   -0.000077\n",
       "dayssincechange         0.000017\n",
       "dtype: float64"
      ]
     },
     "execution_count": 45,
     "metadata": {},
     "output_type": "execute_result"
    }
   ],
   "source": [
    "pd.Series(lasso.coef_, index=X.columns)\n"
   ]
  },
  {
   "cell_type": "code",
   "execution_count": 13,
   "metadata": {},
   "outputs": [
    {
     "data": {
      "text/plain": [
       "0.8196664537765167"
      ]
     },
     "execution_count": 13,
     "metadata": {},
     "output_type": "execute_result"
    }
   ],
   "source": [
    "lasso.score(X_test,y_test)"
   ]
  }
 ],
 "metadata": {
  "kernelspec": {
   "display_name": "Python 3",
   "language": "python",
   "name": "python3"
  },
  "language_info": {
   "codemirror_mode": {
    "name": "ipython",
    "version": 3
   },
   "file_extension": ".py",
   "mimetype": "text/x-python",
   "name": "python",
   "nbconvert_exporter": "python",
   "pygments_lexer": "ipython3",
   "version": "3.8.3"
  }
 },
 "nbformat": 4,
 "nbformat_minor": 4
}
