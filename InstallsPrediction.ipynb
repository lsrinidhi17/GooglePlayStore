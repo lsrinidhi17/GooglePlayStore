{
 "cells": [
  {
   "cell_type": "code",
   "execution_count": 1,
   "metadata": {},
   "outputs": [],
   "source": [
    "# importing libraries\n",
    "import numpy as np\n",
    "import pandas as pd\n",
    "import matplotlib.pyplot as plt\n",
    "import seaborn as sns\n",
    "import re\n",
    "%matplotlib inline\n",
    "import warnings\n",
    "warnings.filterwarnings(\"ignore\")\n",
    "\n",
    "# Machine learning packages\n",
    "import statsmodels.api as sm\n",
    "from statsmodels.stats.outliers_influence import variance_inflation_factor\n",
    "from sklearn import linear_model\n",
    "from sklearn.model_selection import train_test_split\n",
    "from sklearn.metrics import mean_squared_error, r2_score"
   ]
  },
  {
   "cell_type": "code",
   "execution_count": 2,
   "metadata": {},
   "outputs": [
    {
     "name": "stdout",
     "output_type": "stream",
     "text": [
      "This dataframe has 603047 rows and 23 columns.\n"
     ]
    }
   ],
   "source": [
    "# reading data from csv and creating a dataframe\n",
    "df = pd.read_csv('Google-Playstore.csv')\n",
    "\n",
    "# dataframe dimensions\n",
    "print(f\"This dataframe has {df.shape[0]} rows and {df.shape[1]} columns.\")"
   ]
  },
  {
   "cell_type": "code",
   "execution_count": 3,
   "metadata": {},
   "outputs": [
    {
     "name": "stdout",
     "output_type": "stream",
     "text": [
      "<class 'pandas.core.frame.DataFrame'>\n",
      "RangeIndex: 603047 entries, 0 to 603046\n",
      "Data columns (total 23 columns):\n",
      " #   Column             Non-Null Count   Dtype  \n",
      "---  ------             --------------   -----  \n",
      " 0   App Name           603046 non-null  object \n",
      " 1   App Id             603047 non-null  object \n",
      " 2   Category           603047 non-null  object \n",
      " 3   Rating             599287 non-null  float64\n",
      " 4   Rating Count       599287 non-null  float64\n",
      " 5   Installs           602875 non-null  object \n",
      " 6   Minimum Installs   602875 non-null  float64\n",
      " 7   Maximum Installs   603047 non-null  int64  \n",
      " 8   Free               603047 non-null  bool   \n",
      " 9   Price              603047 non-null  float64\n",
      " 10  Currency           602866 non-null  object \n",
      " 11  Size               603047 non-null  object \n",
      " 12  Minimum Android    602556 non-null  object \n",
      " 13  Developer Id       603045 non-null  object \n",
      " 14  Developer Website  423783 non-null  object \n",
      " 15  Developer Email    603010 non-null  object \n",
      " 16  Released           570769 non-null  object \n",
      " 17  Last Updated       603047 non-null  object \n",
      " 18  Content Rating     603047 non-null  object \n",
      " 19  Privacy Policy     517662 non-null  object \n",
      " 20  Ad Supported       603047 non-null  bool   \n",
      " 21  In App Purchases   603047 non-null  bool   \n",
      " 22  Editors Choice     603047 non-null  bool   \n",
      "dtypes: bool(4), float64(4), int64(1), object(14)\n",
      "memory usage: 89.7+ MB\n"
     ]
    }
   ],
   "source": [
    "df.info()"
   ]
  },
  {
   "cell_type": "code",
   "execution_count": 4,
   "metadata": {},
   "outputs": [],
   "source": [
    "#Drop unnecessary variables: Deveopler Website, Developer Id, Developer Email, Privacy Policy\n",
    "df = df.drop(['App Name','App Id','Minimum Installs','Maximum Installs','Minimum Android','Last Updated','Developer Id', 'Developer Website', 'Developer Email', 'Privacy Policy','Content Rating','Privacy Policy','Ad Supported','In App Purchases','Editors Choice'], axis = 1)"
   ]
  },
  {
   "cell_type": "code",
   "execution_count": 5,
   "metadata": {},
   "outputs": [
    {
     "name": "stdout",
     "output_type": "stream",
     "text": [
      "<class 'pandas.core.frame.DataFrame'>\n",
      "RangeIndex: 603047 entries, 0 to 603046\n",
      "Data columns (total 9 columns):\n",
      " #   Column        Non-Null Count   Dtype  \n",
      "---  ------        --------------   -----  \n",
      " 0   Category      603047 non-null  object \n",
      " 1   Rating        599287 non-null  float64\n",
      " 2   Rating Count  599287 non-null  float64\n",
      " 3   Installs      602875 non-null  object \n",
      " 4   Free          603047 non-null  bool   \n",
      " 5   Price         603047 non-null  float64\n",
      " 6   Currency      602866 non-null  object \n",
      " 7   Size          603047 non-null  object \n",
      " 8   Released      570769 non-null  object \n",
      "dtypes: bool(1), float64(3), object(5)\n",
      "memory usage: 37.4+ MB\n"
     ]
    }
   ],
   "source": [
    "df.info()"
   ]
  },
  {
   "cell_type": "code",
   "execution_count": 6,
   "metadata": {},
   "outputs": [],
   "source": [
    "df['Installs'] = df['Installs'].str.replace('+','')\n",
    "df['Installs'] = df['Installs'].str.replace(',','')\n",
    "df.Installs = pd.to_numeric(df.Installs,errors='coerce')\n",
    "df.Installs=df.Installs.apply(func=np.log1p)"
   ]
  },
  {
   "cell_type": "code",
   "execution_count": 7,
   "metadata": {},
   "outputs": [],
   "source": [
    "# remove apps other than US\n",
    "df = df[df['Currency'] == 'USD']\n",
    "df = df.drop(['Currency'],axis=1)"
   ]
  },
  {
   "cell_type": "code",
   "execution_count": 8,
   "metadata": {},
   "outputs": [],
   "source": [
    "#Remove Varies with Device from Size\n",
    "df = df[df['Size'] != 'Varies with device']\n",
    "kb_index = df.Size[df.Size.str.contains('k')].index\n",
    "mb_index = df.Size[(df.Size.str.contains('M'))].index\n",
    "#Remove M,k,, from the size variable\n",
    "#df['Size'] = df['Size'].str.replace('.','')\n",
    "df['Size'] = df['Size'].str.replace(',','')\n",
    "df.Size = df.Size.str.replace('M','')\n",
    "df.Size = df.Size.str.replace('k','')\n",
    "df.Size = pd.to_numeric(df.Size,errors='coerce')\n",
    "df.Size.loc[mb_index] = df.Size.loc[mb_index] * 1000"
   ]
  },
  {
   "cell_type": "code",
   "execution_count": 9,
   "metadata": {},
   "outputs": [],
   "source": [
    "df.Released=pd.to_datetime(df.Released)\n",
    "df['ReleaseMonth']= df['Released'].dt.month\n",
    "df = df.dropna(subset=['ReleaseMonth'])"
   ]
  },
  {
   "cell_type": "code",
   "execution_count": 10,
   "metadata": {},
   "outputs": [],
   "source": [
    "df = df[(df.Rating>=1) & (df.Rating<=5)]"
   ]
  },
  {
   "cell_type": "code",
   "execution_count": 11,
   "metadata": {},
   "outputs": [
    {
     "name": "stdout",
     "output_type": "stream",
     "text": [
      "<class 'pandas.core.frame.DataFrame'>\n",
      "Int64Index: 399284 entries, 0 to 603046\n",
      "Data columns (total 9 columns):\n",
      " #   Column        Non-Null Count   Dtype         \n",
      "---  ------        --------------   -----         \n",
      " 0   Category      399284 non-null  object        \n",
      " 1   Rating        399284 non-null  float64       \n",
      " 2   Rating Count  399284 non-null  float64       \n",
      " 3   Installs      399284 non-null  float64       \n",
      " 4   Free          399284 non-null  bool          \n",
      " 5   Price         399284 non-null  float64       \n",
      " 6   Size          399284 non-null  float64       \n",
      " 7   Released      399284 non-null  datetime64[ns]\n",
      " 8   ReleaseMonth  399284 non-null  float64       \n",
      "dtypes: bool(1), datetime64[ns](1), float64(6), object(1)\n",
      "memory usage: 27.8+ MB\n"
     ]
    }
   ],
   "source": [
    "df.info()"
   ]
  },
  {
   "cell_type": "code",
   "execution_count": 12,
   "metadata": {},
   "outputs": [
    {
     "data": {
      "text/html": [
       "<div>\n",
       "<style scoped>\n",
       "    .dataframe tbody tr th:only-of-type {\n",
       "        vertical-align: middle;\n",
       "    }\n",
       "\n",
       "    .dataframe tbody tr th {\n",
       "        vertical-align: top;\n",
       "    }\n",
       "\n",
       "    .dataframe thead th {\n",
       "        text-align: right;\n",
       "    }\n",
       "</style>\n",
       "<table border=\"1\" class=\"dataframe\">\n",
       "  <thead>\n",
       "    <tr style=\"text-align: right;\">\n",
       "      <th></th>\n",
       "      <th>Rating</th>\n",
       "      <th>Rating Count</th>\n",
       "      <th>Installs</th>\n",
       "      <th>Free</th>\n",
       "      <th>Price</th>\n",
       "      <th>Size</th>\n",
       "      <th>ReleaseMonth</th>\n",
       "    </tr>\n",
       "  </thead>\n",
       "  <tbody>\n",
       "    <tr>\n",
       "      <th>Rating</th>\n",
       "      <td>1.000000</td>\n",
       "      <td>0.008558</td>\n",
       "      <td>-0.104128</td>\n",
       "      <td>-0.025308</td>\n",
       "      <td>0.007313</td>\n",
       "      <td>-0.016761</td>\n",
       "      <td>-0.005984</td>\n",
       "    </tr>\n",
       "    <tr>\n",
       "      <th>Rating Count</th>\n",
       "      <td>0.008558</td>\n",
       "      <td>1.000000</td>\n",
       "      <td>0.094983</td>\n",
       "      <td>0.005942</td>\n",
       "      <td>-0.002085</td>\n",
       "      <td>0.048935</td>\n",
       "      <td>0.003805</td>\n",
       "    </tr>\n",
       "    <tr>\n",
       "      <th>Installs</th>\n",
       "      <td>-0.104128</td>\n",
       "      <td>0.094983</td>\n",
       "      <td>1.000000</td>\n",
       "      <td>0.196606</td>\n",
       "      <td>-0.076338</td>\n",
       "      <td>0.183322</td>\n",
       "      <td>0.009794</td>\n",
       "    </tr>\n",
       "    <tr>\n",
       "      <th>Free</th>\n",
       "      <td>-0.025308</td>\n",
       "      <td>0.005942</td>\n",
       "      <td>0.196606</td>\n",
       "      <td>1.000000</td>\n",
       "      <td>-0.347241</td>\n",
       "      <td>-0.028584</td>\n",
       "      <td>-0.000838</td>\n",
       "    </tr>\n",
       "    <tr>\n",
       "      <th>Price</th>\n",
       "      <td>0.007313</td>\n",
       "      <td>-0.002085</td>\n",
       "      <td>-0.076338</td>\n",
       "      <td>-0.347241</td>\n",
       "      <td>1.000000</td>\n",
       "      <td>0.019024</td>\n",
       "      <td>0.000170</td>\n",
       "    </tr>\n",
       "    <tr>\n",
       "      <th>Size</th>\n",
       "      <td>-0.016761</td>\n",
       "      <td>0.048935</td>\n",
       "      <td>0.183322</td>\n",
       "      <td>-0.028584</td>\n",
       "      <td>0.019024</td>\n",
       "      <td>1.000000</td>\n",
       "      <td>0.005345</td>\n",
       "    </tr>\n",
       "    <tr>\n",
       "      <th>ReleaseMonth</th>\n",
       "      <td>-0.005984</td>\n",
       "      <td>0.003805</td>\n",
       "      <td>0.009794</td>\n",
       "      <td>-0.000838</td>\n",
       "      <td>0.000170</td>\n",
       "      <td>0.005345</td>\n",
       "      <td>1.000000</td>\n",
       "    </tr>\n",
       "  </tbody>\n",
       "</table>\n",
       "</div>"
      ],
      "text/plain": [
       "                Rating  Rating Count  Installs      Free     Price      Size  \\\n",
       "Rating        1.000000      0.008558 -0.104128 -0.025308  0.007313 -0.016761   \n",
       "Rating Count  0.008558      1.000000  0.094983  0.005942 -0.002085  0.048935   \n",
       "Installs     -0.104128      0.094983  1.000000  0.196606 -0.076338  0.183322   \n",
       "Free         -0.025308      0.005942  0.196606  1.000000 -0.347241 -0.028584   \n",
       "Price         0.007313     -0.002085 -0.076338 -0.347241  1.000000  0.019024   \n",
       "Size         -0.016761      0.048935  0.183322 -0.028584  0.019024  1.000000   \n",
       "ReleaseMonth -0.005984      0.003805  0.009794 -0.000838  0.000170  0.005345   \n",
       "\n",
       "              ReleaseMonth  \n",
       "Rating           -0.005984  \n",
       "Rating Count      0.003805  \n",
       "Installs          0.009794  \n",
       "Free             -0.000838  \n",
       "Price             0.000170  \n",
       "Size              0.005345  \n",
       "ReleaseMonth      1.000000  "
      ]
     },
     "execution_count": 12,
     "metadata": {},
     "output_type": "execute_result"
    }
   ],
   "source": [
    "df.corr(method='pearson')"
   ]
  },
  {
   "cell_type": "code",
   "execution_count": 13,
   "metadata": {},
   "outputs": [],
   "source": [
    "df=pd.get_dummies(df,columns=['Category','Free'],dtype=np.int64)\n"
   ]
  },
  {
   "cell_type": "code",
   "execution_count": 25,
   "metadata": {},
   "outputs": [
    {
     "name": "stdout",
     "output_type": "stream",
     "text": [
      "[[<matplotlib.axes._subplots.AxesSubplot object at 0x7fd044488850>\n",
      "  <matplotlib.axes._subplots.AxesSubplot object at 0x7fd04448cd90>]\n",
      " [<matplotlib.axes._subplots.AxesSubplot object at 0x7fd04449f820>\n",
      "  <matplotlib.axes._subplots.AxesSubplot object at 0x7fd0461fd400>]\n",
      " [<matplotlib.axes._subplots.AxesSubplot object at 0x7fd05039b6a0>\n",
      "  <matplotlib.axes._subplots.AxesSubplot object at 0x7fd0444abe80>]]\n"
     ]
    },
    {
     "data": {
      "image/png": "[encoded data removed]",
      "text/plain": [
       "<Figure size 864x576 with 6 Axes>"
      ]
     },
     "metadata": {
      "needs_background": "light"
     },
     "output_type": "display_data"
    }
   ],
   "source": [
    "print(df.hist(['Rating','Rating Count','Size','Installs','Price'],figsize=(12,8),xlabelsize=12,ylabelsize=12))"
   ]
  },
  {
   "cell_type": "code",
   "execution_count": 24,
   "metadata": {},
   "outputs": [],
   "source": [
    "df.Price=df.Price.apply(func=np.log1p)\n",
    "df.Rating=df.Rating.apply(func=np.log1p)\n",
    "df['Rating Count']=df['Rating Count'].apply(func=np.log1p)\n",
    "df.Size=df.Size.apply(func=np.log1p)"
   ]
  },
  {
   "cell_type": "code",
   "execution_count": 14,
   "metadata": {},
   "outputs": [
    {
     "name": "stdout",
     "output_type": "stream",
     "text": [
      "<class 'pandas.core.frame.DataFrame'>\n",
      "Int64Index: 399284 entries, 0 to 603046\n",
      "Data columns (total 57 columns):\n",
      " #   Column                            Non-Null Count   Dtype         \n",
      "---  ------                            --------------   -----         \n",
      " 0   Rating                            399284 non-null  float64       \n",
      " 1   Rating Count                      399284 non-null  float64       \n",
      " 2   Installs                          399284 non-null  float64       \n",
      " 3   Price                             399284 non-null  float64       \n",
      " 4   Size                              399284 non-null  float64       \n",
      " 5   Released                          399284 non-null  datetime64[ns]\n",
      " 6   ReleaseMonth                      399284 non-null  float64       \n",
      " 7   Category_Action                   399284 non-null  int64         \n",
      " 8   Category_Adventure                399284 non-null  int64         \n",
      " 9   Category_Arcade                   399284 non-null  int64         \n",
      " 10  Category_Art & Design             399284 non-null  int64         \n",
      " 11  Category_Auto & Vehicles          399284 non-null  int64         \n",
      " 12  Category_Beauty                   399284 non-null  int64         \n",
      " 13  Category_Board                    399284 non-null  int64         \n",
      " 14  Category_Books & Reference        399284 non-null  int64         \n",
      " 15  Category_Business                 399284 non-null  int64         \n",
      " 16  Category_Card                     399284 non-null  int64         \n",
      " 17  Category_Casino                   399284 non-null  int64         \n",
      " 18  Category_Casual                   399284 non-null  int64         \n",
      " 19  Category_Comics                   399284 non-null  int64         \n",
      " 20  Category_Communication            399284 non-null  int64         \n",
      " 21  Category_Dating                   399284 non-null  int64         \n",
      " 22  Category_Education                399284 non-null  int64         \n",
      " 23  Category_Educational              399284 non-null  int64         \n",
      " 24  Category_Entertainment            399284 non-null  int64         \n",
      " 25  Category_Events                   399284 non-null  int64         \n",
      " 26  Category_Finance                  399284 non-null  int64         \n",
      " 27  Category_Food & Drink             399284 non-null  int64         \n",
      " 28  Category_Health & Fitness         399284 non-null  int64         \n",
      " 29  Category_House & Home             399284 non-null  int64         \n",
      " 30  Category_Libraries & Demo         399284 non-null  int64         \n",
      " 31  Category_Lifestyle                399284 non-null  int64         \n",
      " 32  Category_Maps & Navigation        399284 non-null  int64         \n",
      " 33  Category_Medical                  399284 non-null  int64         \n",
      " 34  Category_Music                    399284 non-null  int64         \n",
      " 35  Category_Music & Audio            399284 non-null  int64         \n",
      " 36  Category_News & Magazines         399284 non-null  int64         \n",
      " 37  Category_Parenting                399284 non-null  int64         \n",
      " 38  Category_Personalization          399284 non-null  int64         \n",
      " 39  Category_Photography              399284 non-null  int64         \n",
      " 40  Category_Productivity             399284 non-null  int64         \n",
      " 41  Category_Puzzle                   399284 non-null  int64         \n",
      " 42  Category_Racing                   399284 non-null  int64         \n",
      " 43  Category_Role Playing             399284 non-null  int64         \n",
      " 44  Category_Shopping                 399284 non-null  int64         \n",
      " 45  Category_Simulation               399284 non-null  int64         \n",
      " 46  Category_Social                   399284 non-null  int64         \n",
      " 47  Category_Sports                   399284 non-null  int64         \n",
      " 48  Category_Strategy                 399284 non-null  int64         \n",
      " 49  Category_Tools                    399284 non-null  int64         \n",
      " 50  Category_Travel & Local           399284 non-null  int64         \n",
      " 51  Category_Trivia                   399284 non-null  int64         \n",
      " 52  Category_Video Players & Editors  399284 non-null  int64         \n",
      " 53  Category_Weather                  399284 non-null  int64         \n",
      " 54  Category_Word                     399284 non-null  int64         \n",
      " 55  Free_False                        399284 non-null  int64         \n",
      " 56  Free_True                         399284 non-null  int64         \n",
      "dtypes: datetime64[ns](1), float64(6), int64(50)\n",
      "memory usage: 176.7 MB\n"
     ]
    }
   ],
   "source": [
    "df.info()"
   ]
  },
  {
   "cell_type": "code",
   "execution_count": 15,
   "metadata": {},
   "outputs": [
    {
     "name": "stdout",
     "output_type": "stream",
     "text": [
      "Index(['Rating', 'Rating Count', 'Installs', 'Price', 'Size', 'Released',\n",
      "       'ReleaseMonth', 'Category_Action', 'Category_Adventure',\n",
      "       'Category_Arcade', 'Category_Art & Design', 'Category_Auto & Vehicles',\n",
      "       'Category_Beauty', 'Category_Board', 'Category_Books & Reference',\n",
      "       'Category_Business', 'Category_Card', 'Category_Casino',\n",
      "       'Category_Casual', 'Category_Comics', 'Category_Communication',\n",
      "       'Category_Dating', 'Category_Education', 'Category_Educational',\n",
      "       'Category_Entertainment', 'Category_Events', 'Category_Finance',\n",
      "       'Category_Food & Drink', 'Category_Health & Fitness',\n",
      "       'Category_House & Home', 'Category_Libraries & Demo',\n",
      "       'Category_Lifestyle', 'Category_Maps & Navigation', 'Category_Medical',\n",
      "       'Category_Music', 'Category_Music & Audio', 'Category_News & Magazines',\n",
      "       'Category_Parenting', 'Category_Personalization',\n",
      "       'Category_Photography', 'Category_Productivity', 'Category_Puzzle',\n",
      "       'Category_Racing', 'Category_Role Playing', 'Category_Shopping',\n",
      "       'Category_Simulation', 'Category_Social', 'Category_Sports',\n",
      "       'Category_Strategy', 'Category_Tools', 'Category_Travel & Local',\n",
      "       'Category_Trivia', 'Category_Video Players & Editors',\n",
      "       'Category_Weather', 'Category_Word', 'Free_False', 'Free_True'],\n",
      "      dtype='object')\n"
     ]
    }
   ],
   "source": [
    "print(df.columns)"
   ]
  },
  {
   "cell_type": "code",
   "execution_count": 26,
   "metadata": {},
   "outputs": [],
   "source": [
    "X = df.drop(['Installs','Released'],axis=1)"
   ]
  },
  {
   "cell_type": "code",
   "execution_count": 27,
   "metadata": {},
   "outputs": [],
   "source": [
    "y = df['Installs']"
   ]
  },
  {
   "cell_type": "code",
   "execution_count": 28,
   "metadata": {},
   "outputs": [
    {
     "name": "stdout",
     "output_type": "stream",
     "text": [
      "                            OLS Regression Results                            \n",
      "==============================================================================\n",
      "Dep. Variable:               Installs   R-squared:                       0.825\n",
      "Model:                            OLS   Adj. R-squared:                  0.825\n",
      "Method:                 Least Squares   F-statistic:                 3.558e+04\n",
      "Date:                Sat, 28 Nov 2020   Prob (F-statistic):               0.00\n",
      "Time:                        19:31:57   Log-Likelihood:            -5.8297e+05\n",
      "No. Observations:              399284   AIC:                         1.166e+06\n",
      "Df Residuals:                  399230   BIC:                         1.167e+06\n",
      "Df Model:                          53                                         \n",
      "Covariance Type:            nonrobust                                         \n",
      "====================================================================================================\n",
      "                                       coef    std err          t      P>|t|      [0.025      0.975]\n",
      "----------------------------------------------------------------------------------------------------\n",
      "Rating                              -1.8760      0.013   -146.110      0.000      -1.901      -1.851\n",
      "Rating Count                         0.9573      0.001   1264.489      0.000       0.956       0.959\n",
      "Price                               -0.1380      0.012    -11.851      0.000      -0.161      -0.115\n",
      "Size                                -0.0229      0.002    -15.051      0.000      -0.026      -0.020\n",
      "ReleaseMonth                         0.0018      0.000      3.696      0.000       0.001       0.003\n",
      "Category_Action                      0.1614      0.018      8.962      0.000       0.126       0.197\n",
      "Category_Adventure                  -0.0080      0.020     -0.411      0.681      -0.046       0.030\n",
      "Category_Arcade                      0.0091      0.015      0.601      0.548      -0.021       0.039\n",
      "Category_Art & Design                0.7787      0.021     36.942      0.000       0.737       0.820\n",
      "Category_Auto & Vehicles             0.2705      0.020     13.304      0.000       0.231       0.310\n",
      "Category_Beauty                      0.7219      0.028     26.066      0.000       0.668       0.776\n",
      "Category_Board                       0.1781      0.024      7.496      0.000       0.132       0.225\n",
      "Category_Books & Reference           0.5050      0.007     76.788      0.000       0.492       0.518\n",
      "Category_Business                    0.1045      0.009     11.120      0.000       0.086       0.123\n",
      "Category_Card                       -0.0002      0.024     -0.011      0.992      -0.047       0.046\n",
      "Category_Casino                     -0.1482      0.039     -3.847      0.000      -0.224      -0.073\n",
      "Category_Casual                      0.1804      0.014     12.970      0.000       0.153       0.208\n",
      "Category_Comics                      0.7546      0.037     20.542      0.000       0.683       0.827\n",
      "Category_Communication               0.3166      0.013     25.284      0.000       0.292       0.341\n",
      "Category_Dating                      0.3875      0.041      9.393      0.000       0.307       0.468\n",
      "Category_Education                   0.3969      0.006     70.442      0.000       0.386       0.408\n",
      "Category_Educational                 0.8709      0.016     54.618      0.000       0.840       0.902\n",
      "Category_Entertainment               0.5478      0.007     78.279      0.000       0.534       0.561\n",
      "Category_Events                      0.0570      0.037      1.548      0.122      -0.015       0.129\n",
      "Category_Finance                     0.0483      0.009      5.109      0.000       0.030       0.067\n",
      "Category_Food & Drink                0.3191      0.014     22.828      0.000       0.292       0.346\n",
      "Category_Health & Fitness            0.3327      0.010     33.126      0.000       0.313       0.352\n",
      "Category_House & Home                0.2987      0.028     10.546      0.000       0.243       0.354\n",
      "Category_Libraries & Demo            0.1892      0.032      5.872      0.000       0.126       0.252\n",
      "Category_Lifestyle                   0.4643      0.008     61.417      0.000       0.449       0.479\n",
      "Category_Maps & Navigation           0.1427      0.014     10.003      0.000       0.115       0.171\n",
      "Category_Medical                     0.4158      0.015     27.654      0.000       0.386       0.445\n",
      "Category_Music                       0.3835      0.046      8.391      0.000       0.294       0.473\n",
      "Category_Music & Audio               0.3335      0.007     47.609      0.000       0.320       0.347\n",
      "Category_News & Magazines            0.0744      0.011      7.042      0.000       0.054       0.095\n",
      "Category_Parenting                   0.6119      0.034     18.114      0.000       0.546       0.678\n",
      "Category_Personalization             0.4870      0.008     62.884      0.000       0.472       0.502\n",
      "Category_Photography                 0.8186      0.011     74.338      0.000       0.797       0.840\n",
      "Category_Productivity                0.1969      0.010     20.162      0.000       0.178       0.216\n",
      "Category_Puzzle                      0.1544      0.012     13.133      0.000       0.131       0.177\n",
      "Category_Racing                      0.6019      0.027     22.588      0.000       0.550       0.654\n",
      "Category_Role Playing               -0.2595      0.020    -13.198      0.000      -0.298      -0.221\n",
      "Category_Shopping                    0.2651      0.012     21.862      0.000       0.241       0.289\n",
      "Category_Simulation                  0.2301      0.017     13.795      0.000       0.197       0.263\n",
      "Category_Social                      0.0212      0.013      1.616      0.106      -0.005       0.047\n",
      "Category_Sports                      0.1693      0.011     14.982      0.000       0.147       0.191\n",
      "Category_Strategy                   -0.3240      0.023    -14.362      0.000      -0.368      -0.280\n",
      "Category_Tools                       0.2927      0.007     41.729      0.000       0.279       0.306\n",
      "Category_Travel & Local              0.2838      0.011     26.982      0.000       0.263       0.304\n",
      "Category_Trivia                      0.0503      0.026      1.956      0.050   -9.69e-05       0.101\n",
      "Category_Video Players & Editors     0.4272      0.018     23.188      0.000       0.391       0.463\n",
      "Category_Weather                     0.1679      0.023      7.301      0.000       0.123       0.213\n",
      "Category_Word                        0.1039      0.022      4.661      0.000       0.060       0.148\n",
      "Free_False                           5.9175      0.030    197.822      0.000       5.859       5.976\n",
      "Free_True                            7.4679      0.025    302.967      0.000       7.420       7.516\n",
      "==============================================================================\n",
      "Omnibus:                    16678.833   Durbin-Watson:                   1.505\n",
      "Prob(Omnibus):                  0.000   Jarque-Bera (JB):            30004.426\n",
      "Skew:                          -0.339   Prob(JB):                         0.00\n",
      "Kurtosis:                       4.159   Cond. No.                     2.25e+15\n",
      "==============================================================================\n",
      "\n",
      "Warnings:\n",
      "[1] Standard Errors assume that the covariance matrix of the errors is correctly specified.\n",
      "[2] The smallest eigenvalue is 1.26e-23. This might indicate that there are\n",
      "strong multicollinearity problems or that the design matrix is singular.\n"
     ]
    }
   ],
   "source": [
    "model = sm.OLS(y.astype(float), X.astype(float)).fit()\n",
    "predictions = model.predict(X) \n",
    "\n",
    "print_model = model.summary()\n",
    "print(print_model)"
   ]
  },
  {
   "cell_type": "code",
   "execution_count": 29,
   "metadata": {},
   "outputs": [],
   "source": [
    "#After first iteration\n",
    "tobedropped = ['Installs','Released','Category_Sports','Category_Social','Category_Shopping','Category_Productivity','Category_Lifestyle','Category_Communication']"
   ]
  },
  {
   "cell_type": "code",
   "execution_count": 22,
   "metadata": {},
   "outputs": [
    {
     "name": "stdout",
     "output_type": "stream",
     "text": [
      "                            OLS Regression Results                            \n",
      "==============================================================================\n",
      "Dep. Variable:               Installs   R-squared:                       0.138\n",
      "Model:                            OLS   Adj. R-squared:                  0.138\n",
      "Method:                 Least Squares   F-statistic:                     1330.\n",
      "Date:                Sat, 28 Nov 2020   Prob (F-statistic):               0.00\n",
      "Time:                        19:24:43   Log-Likelihood:            -9.0166e+05\n",
      "No. Observations:              399284   AIC:                         1.803e+06\n",
      "Df Residuals:                  399235   BIC:                         1.804e+06\n",
      "Df Model:                          48                                         \n",
      "Covariance Type:            nonrobust                                         \n",
      "====================================================================================================\n",
      "                                       coef    std err          t      P>|t|      [0.025      0.975]\n",
      "----------------------------------------------------------------------------------------------------\n",
      "Rating                              -0.3503      0.006    -56.357      0.000      -0.363      -0.338\n",
      "Rating Count                      7.265e-07   1.34e-08     54.072      0.000       7e-07    7.53e-07\n",
      "Price                               -0.0053      0.001     -3.741      0.000      -0.008      -0.003\n",
      "Size                              1.567e-05   1.77e-07     88.548      0.000    1.53e-05     1.6e-05\n",
      "ReleaseMonth                         0.0056      0.001      5.277      0.000       0.003       0.008\n",
      "Category_Action                      1.6809      0.041     40.695      0.000       1.600       1.762\n",
      "Category_Adventure                   1.0098      0.045     22.561      0.000       0.922       1.098\n",
      "Category_Arcade                      0.6019      0.035     17.212      0.000       0.533       0.670\n",
      "Category_Art & Design                0.2395      0.048      4.975      0.000       0.145       0.334\n",
      "Category_Auto & Vehicles            -0.2230      0.047     -4.795      0.000      -0.314      -0.132\n",
      "Category_Beauty                     -0.1701      0.063     -2.699      0.007      -0.294      -0.047\n",
      "Category_Board                       0.8427      0.054     15.557      0.000       0.737       0.949\n",
      "Category_Books & Reference          -0.1251      0.016     -7.962      0.000      -0.156      -0.094\n",
      "Category_Business                   -0.8598      0.022    -38.995      0.000      -0.903      -0.817\n",
      "Category_Card                        1.0918      0.054     20.214      0.000       0.986       1.198\n",
      "Category_Casino                      1.6324      0.088     18.651      0.000       1.461       1.804\n",
      "Category_Casual                      1.0628      0.032     33.168      0.000       1.000       1.126\n",
      "Category_Comics                      0.8956      0.083     10.726      0.000       0.732       1.059\n",
      "Category_Dating                      1.0527      0.094     11.233      0.000       0.869       1.236\n",
      "Category_Education                  -0.3687      0.014    -26.642      0.000      -0.396      -0.342\n",
      "Category_Educational                 0.7108      0.037     19.411      0.000       0.639       0.783\n",
      "Category_Entertainment               0.0875      0.017      5.199      0.000       0.055       0.121\n",
      "Category_Events                     -1.4192      0.084    -16.987      0.000      -1.583      -1.255\n",
      "Category_Finance                     0.1874      0.022      8.417      0.000       0.144       0.231\n",
      "Category_Food & Drink               -0.6675      0.032    -20.782      0.000      -0.730      -0.605\n",
      "Category_Health & Fitness           -0.1259      0.024     -5.351      0.000      -0.172      -0.080\n",
      "Category_House & Home               -0.3914      0.065     -6.067      0.000      -0.518      -0.265\n",
      "Category_Libraries & Demo           -0.6425      0.073     -8.773      0.000      -0.786      -0.499\n",
      "Category_Maps & Navigation          -0.0997      0.033     -3.028      0.002      -0.164      -0.035\n",
      "Category_Medical                    -0.3615      0.035    -10.466      0.000      -0.429      -0.294\n",
      "Category_Music                       1.4709      0.104     14.172      0.000       1.267       1.674\n",
      "Category_Music & Audio              -0.4651      0.017    -27.933      0.000      -0.498      -0.433\n",
      "Category_News & Magazines           -0.3648      0.025    -14.811      0.000      -0.413      -0.317\n",
      "Category_Parenting                   0.5033      0.077      6.555      0.000       0.353       0.654\n",
      "Category_Personalization             0.5651      0.018     30.754      0.000       0.529       0.601\n",
      "Category_Photography                 0.9641      0.026     37.505      0.000       0.914       1.014\n",
      "Category_Puzzle                      0.5241      0.027     19.256      0.000       0.471       0.577\n",
      "Category_Racing                      2.3094      0.061     38.064      0.000       2.190       2.428\n",
      "Category_Role Playing                1.5861      0.045     35.231      0.000       1.498       1.674\n",
      "Category_Simulation                  1.9064      0.038     49.794      0.000       1.831       1.981\n",
      "Category_Strategy                    1.2902      0.052     25.017      0.000       1.189       1.391\n",
      "Category_Tools                       0.3846      0.017     22.703      0.000       0.351       0.418\n",
      "Category_Travel & Local             -0.4255      0.025    -17.349      0.000      -0.474      -0.377\n",
      "Category_Trivia                      0.3766      0.059      6.432      0.000       0.262       0.491\n",
      "Category_Video Players & Editors     0.9814      0.042     23.233      0.000       0.899       1.064\n",
      "Category_Weather                     0.6450      0.052     12.292      0.000       0.542       0.748\n",
      "Category_Word                        0.8654      0.051     17.030      0.000       0.766       0.965\n",
      "Free_False                           7.7228      0.034    227.281      0.000       7.656       7.789\n",
      "Free_True                           10.3144      0.028    365.778      0.000      10.259      10.370\n",
      "==============================================================================\n",
      "Omnibus:                    24622.625   Durbin-Watson:                   1.324\n",
      "Prob(Omnibus):                  0.000   Jarque-Bera (JB):           108868.532\n",
      "Skew:                           0.103   Prob(JB):                         0.00\n",
      "Kurtosis:                       5.550   Cond. No.                     7.78e+06\n",
      "==============================================================================\n",
      "\n",
      "Warnings:\n",
      "[1] Standard Errors assume that the covariance matrix of the errors is correctly specified.\n",
      "[2] The condition number is large, 7.78e+06. This might indicate that there are\n",
      "strong multicollinearity or other numerical problems.\n"
     ]
    }
   ],
   "source": [
    "X = df.drop(tobedropped,axis=1)\n",
    "y= y = df['Installs']\n",
    "model = sm.OLS(y.astype(float), X.astype(float)).fit()\n",
    "predictions = model.predict(X) \n",
    "\n",
    "print_model = model.summary()\n",
    "print(print_model)"
   ]
  },
  {
   "cell_type": "code",
   "execution_count": null,
   "metadata": {},
   "outputs": [],
   "source": []
  }
 ],
 "metadata": {
  "kernelspec": {
   "display_name": "Python 3",
   "language": "python",
   "name": "python3"
  },
  "language_info": {
   "codemirror_mode": {
    "name": "ipython",
    "version": 3
   },
   "file_extension": ".py",
   "mimetype": "text/x-python",
   "name": "python",
   "nbconvert_exporter": "python",
   "pygments_lexer": "ipython3",
   "version": "3.8.3"
  }
 },
 "nbformat": 4,
 "nbformat_minor": 4
}
